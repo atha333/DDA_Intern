{
 "cells": [
  {
   "cell_type": "code",
   "execution_count": null,
   "id": "273fb562",
   "metadata": {},
   "outputs": [],
   "source": []
  },
  {
   "cell_type": "markdown",
   "id": "f8c2bac5",
   "metadata": {},
   "source": [
    "## Case Study 2 (Customer Orders) - Harsh Atha"
   ]
  },
  {
   "cell_type": "markdown",
   "id": "069f42a4",
   "metadata": {},
   "source": [
    "### The dataset contains data for 2015, 2016 and 2017. Current year assumed to be 2017 and previous year as 2016"
   ]
  },
  {
   "cell_type": "code",
   "execution_count": 1,
   "id": "1f0e4c7a",
   "metadata": {},
   "outputs": [],
   "source": [
    "import pandas as pd\n",
    "import matplotlib.pyplot as plt\n",
    "import seaborn as sns"
   ]
  },
  {
   "cell_type": "code",
   "execution_count": 2,
   "id": "2da6d2bf",
   "metadata": {},
   "outputs": [],
   "source": [
    "df=pd.read_csv(\"casestudy.csv\",index_col=0)\n",
    "df[\"customer_email\"] = df[\"customer_email\"].str.strip()"
   ]
  },
  {
   "cell_type": "code",
   "execution_count": 3,
   "id": "3eac8202",
   "metadata": {},
   "outputs": [
    {
     "data": {
      "text/html": [
       "<div>\n",
       "<style scoped>\n",
       "    .dataframe tbody tr th:only-of-type {\n",
       "        vertical-align: middle;\n",
       "    }\n",
       "\n",
       "    .dataframe tbody tr th {\n",
       "        vertical-align: top;\n",
       "    }\n",
       "\n",
       "    .dataframe thead th {\n",
       "        text-align: right;\n",
       "    }\n",
       "</style>\n",
       "<table border=\"1\" class=\"dataframe\">\n",
       "  <thead>\n",
       "    <tr style=\"text-align: right;\">\n",
       "      <th></th>\n",
       "      <th>customer_email</th>\n",
       "      <th>net_revenue</th>\n",
       "      <th>year</th>\n",
       "    </tr>\n",
       "  </thead>\n",
       "  <tbody>\n",
       "    <tr>\n",
       "      <th>0</th>\n",
       "      <td>nhknapwsbx@gmail.com</td>\n",
       "      <td>249.92</td>\n",
       "      <td>2015</td>\n",
       "    </tr>\n",
       "    <tr>\n",
       "      <th>1</th>\n",
       "      <td>joiuzbvcpn@gmail.com</td>\n",
       "      <td>87.61</td>\n",
       "      <td>2015</td>\n",
       "    </tr>\n",
       "    <tr>\n",
       "      <th>2</th>\n",
       "      <td>ukkjctepxt@gmail.com</td>\n",
       "      <td>168.38</td>\n",
       "      <td>2015</td>\n",
       "    </tr>\n",
       "    <tr>\n",
       "      <th>3</th>\n",
       "      <td>gykatilzrt@gmail.com</td>\n",
       "      <td>62.40</td>\n",
       "      <td>2015</td>\n",
       "    </tr>\n",
       "    <tr>\n",
       "      <th>4</th>\n",
       "      <td>mmsgsrtxah@gmail.com</td>\n",
       "      <td>43.08</td>\n",
       "      <td>2015</td>\n",
       "    </tr>\n",
       "  </tbody>\n",
       "</table>\n",
       "</div>"
      ],
      "text/plain": [
       "         customer_email  net_revenue  year\n",
       "0  nhknapwsbx@gmail.com       249.92  2015\n",
       "1  joiuzbvcpn@gmail.com        87.61  2015\n",
       "2  ukkjctepxt@gmail.com       168.38  2015\n",
       "3  gykatilzrt@gmail.com        62.40  2015\n",
       "4  mmsgsrtxah@gmail.com        43.08  2015"
      ]
     },
     "execution_count": 3,
     "metadata": {},
     "output_type": "execute_result"
    }
   ],
   "source": [
    "df.head()"
   ]
  },
  {
   "cell_type": "code",
   "execution_count": 4,
   "id": "42eba937",
   "metadata": {},
   "outputs": [
    {
     "name": "stdout",
     "output_type": "stream",
     "text": [
      "<class 'pandas.core.frame.DataFrame'>\n",
      "Int64Index: 685927 entries, 0 to 685926\n",
      "Data columns (total 3 columns):\n",
      " #   Column          Non-Null Count   Dtype  \n",
      "---  ------          --------------   -----  \n",
      " 0   customer_email  685927 non-null  object \n",
      " 1   net_revenue     685927 non-null  float64\n",
      " 2   year            685927 non-null  int64  \n",
      "dtypes: float64(1), int64(1), object(1)\n",
      "memory usage: 20.9+ MB\n"
     ]
    }
   ],
   "source": [
    "df.info()"
   ]
  },
  {
   "cell_type": "code",
   "execution_count": 5,
   "id": "10450602",
   "metadata": {},
   "outputs": [],
   "source": [
    "df_2015=df[df[\"year\"]==2015]\n",
    "df_2016=df[df[\"year\"]==2016]\n",
    "df_2017=df[df[\"year\"]==2017]"
   ]
  },
  {
   "cell_type": "code",
   "execution_count": 6,
   "id": "ba16b447",
   "metadata": {},
   "outputs": [
    {
     "data": {
      "text/html": [
       "<div>\n",
       "<style scoped>\n",
       "    .dataframe tbody tr th:only-of-type {\n",
       "        vertical-align: middle;\n",
       "    }\n",
       "\n",
       "    .dataframe tbody tr th {\n",
       "        vertical-align: top;\n",
       "    }\n",
       "\n",
       "    .dataframe thead th {\n",
       "        text-align: right;\n",
       "    }\n",
       "</style>\n",
       "<table border=\"1\" class=\"dataframe\">\n",
       "  <thead>\n",
       "    <tr style=\"text-align: right;\">\n",
       "      <th></th>\n",
       "      <th>customer_email</th>\n",
       "      <th>net_revenue</th>\n",
       "      <th>year</th>\n",
       "    </tr>\n",
       "  </thead>\n",
       "  <tbody>\n",
       "    <tr>\n",
       "      <th>231294</th>\n",
       "      <td>mwrossuukz@gmail.com</td>\n",
       "      <td>197.26</td>\n",
       "      <td>2016</td>\n",
       "    </tr>\n",
       "    <tr>\n",
       "      <th>231295</th>\n",
       "      <td>gkwsoupawk@gmail.com</td>\n",
       "      <td>38.28</td>\n",
       "      <td>2016</td>\n",
       "    </tr>\n",
       "    <tr>\n",
       "      <th>231296</th>\n",
       "      <td>vlyigtgfzs@gmail.com</td>\n",
       "      <td>154.57</td>\n",
       "      <td>2016</td>\n",
       "    </tr>\n",
       "    <tr>\n",
       "      <th>231297</th>\n",
       "      <td>yfirychuhk@gmail.com</td>\n",
       "      <td>102.47</td>\n",
       "      <td>2016</td>\n",
       "    </tr>\n",
       "    <tr>\n",
       "      <th>231298</th>\n",
       "      <td>trnzgqinuu@gmail.com</td>\n",
       "      <td>32.03</td>\n",
       "      <td>2016</td>\n",
       "    </tr>\n",
       "  </tbody>\n",
       "</table>\n",
       "</div>"
      ],
      "text/plain": [
       "              customer_email  net_revenue  year\n",
       "231294  mwrossuukz@gmail.com       197.26  2016\n",
       "231295  gkwsoupawk@gmail.com        38.28  2016\n",
       "231296  vlyigtgfzs@gmail.com       154.57  2016\n",
       "231297  yfirychuhk@gmail.com       102.47  2016\n",
       "231298  trnzgqinuu@gmail.com        32.03  2016"
      ]
     },
     "execution_count": 6,
     "metadata": {},
     "output_type": "execute_result"
    }
   ],
   "source": [
    "df_2016.head()"
   ]
  },
  {
   "cell_type": "code",
   "execution_count": 7,
   "id": "13b64e6d",
   "metadata": {},
   "outputs": [
    {
     "data": {
      "text/html": [
       "<div>\n",
       "<style scoped>\n",
       "    .dataframe tbody tr th:only-of-type {\n",
       "        vertical-align: middle;\n",
       "    }\n",
       "\n",
       "    .dataframe tbody tr th {\n",
       "        vertical-align: top;\n",
       "    }\n",
       "\n",
       "    .dataframe thead th {\n",
       "        text-align: right;\n",
       "    }\n",
       "</style>\n",
       "<table border=\"1\" class=\"dataframe\">\n",
       "  <thead>\n",
       "    <tr style=\"text-align: right;\">\n",
       "      <th></th>\n",
       "      <th>customer_email</th>\n",
       "      <th>net_revenue</th>\n",
       "      <th>year</th>\n",
       "    </tr>\n",
       "  </thead>\n",
       "  <tbody>\n",
       "    <tr>\n",
       "      <th>435940</th>\n",
       "      <td>mwrossuukz@gmail.com</td>\n",
       "      <td>96.61</td>\n",
       "      <td>2017</td>\n",
       "    </tr>\n",
       "    <tr>\n",
       "      <th>435941</th>\n",
       "      <td>qvjfterwnk@gmail.com</td>\n",
       "      <td>176.00</td>\n",
       "      <td>2017</td>\n",
       "    </tr>\n",
       "    <tr>\n",
       "      <th>435942</th>\n",
       "      <td>vlyigtgfzs@gmail.com</td>\n",
       "      <td>73.47</td>\n",
       "      <td>2017</td>\n",
       "    </tr>\n",
       "    <tr>\n",
       "      <th>435943</th>\n",
       "      <td>yfirychuhk@gmail.com</td>\n",
       "      <td>138.17</td>\n",
       "      <td>2017</td>\n",
       "    </tr>\n",
       "    <tr>\n",
       "      <th>435944</th>\n",
       "      <td>fdkiioqtli@gmail.com</td>\n",
       "      <td>156.87</td>\n",
       "      <td>2017</td>\n",
       "    </tr>\n",
       "  </tbody>\n",
       "</table>\n",
       "</div>"
      ],
      "text/plain": [
       "              customer_email  net_revenue  year\n",
       "435940  mwrossuukz@gmail.com        96.61  2017\n",
       "435941  qvjfterwnk@gmail.com       176.00  2017\n",
       "435942  vlyigtgfzs@gmail.com        73.47  2017\n",
       "435943  yfirychuhk@gmail.com       138.17  2017\n",
       "435944  fdkiioqtli@gmail.com       156.87  2017"
      ]
     },
     "execution_count": 7,
     "metadata": {},
     "output_type": "execute_result"
    }
   ],
   "source": [
    "df_2017.head()"
   ]
  },
  {
   "cell_type": "markdown",
   "id": "70ede5ef",
   "metadata": {},
   "source": [
    "#### Revenue for current year 2017"
   ]
  },
  {
   "cell_type": "code",
   "execution_count": 8,
   "id": "ffc1932a",
   "metadata": {},
   "outputs": [],
   "source": [
    "curr_year_revenue = round(df_2017[\"net_revenue\"].sum(),2)"
   ]
  },
  {
   "cell_type": "code",
   "execution_count": 9,
   "id": "ad42a371",
   "metadata": {},
   "outputs": [
    {
     "name": "stdout",
     "output_type": "stream",
     "text": [
      "The total revenue generated for the current year i.e 2017 is  31417495.03\n"
     ]
    }
   ],
   "source": [
    "print(\"The total revenue generated for the current year i.e 2017 is \", curr_year_revenue)"
   ]
  },
  {
   "cell_type": "code",
   "execution_count": 10,
   "id": "54d9d15f",
   "metadata": {},
   "outputs": [],
   "source": [
    "new_customer = df_2017[~df_2017[\"customer_email\"].isin(df_2016[\"customer_email\"])]\n",
    "new_customer_revenue=round(new_customer[\"net_revenue\"].sum(),2)"
   ]
  },
  {
   "cell_type": "code",
   "execution_count": 11,
   "id": "3bc3e90c",
   "metadata": {},
   "outputs": [
    {
     "name": "stdout",
     "output_type": "stream",
     "text": [
      "The new customer revenue generated i.e for customers obtained in 2017 not present in 2016 is  21769213.01\n"
     ]
    }
   ],
   "source": [
    "print(\"The new customer revenue generated i.e for customers obtained in 2017 not present in 2016 is \", new_customer_revenue)"
   ]
  },
  {
   "cell_type": "markdown",
   "id": "3e2a7b99",
   "metadata": {},
   "source": [
    "#### Existing Customer Growth. (Revenue of existing customers for current year –(minus) Revenue of existing customers from the previous year)"
   ]
  },
  {
   "cell_type": "code",
   "execution_count": 12,
   "id": "edf65d5b",
   "metadata": {},
   "outputs": [],
   "source": [
    "existing_customer_data_2017 = df_2017[df_2017[\"customer_email\"].isin(df_2016[\"customer_email\"])]\n",
    "existing_customer_data_2016 = df_2016[df_2016[\"customer_email\"].isin(existing_customer_data_2017[\"customer_email\"])]"
   ]
  },
  {
   "cell_type": "code",
   "execution_count": 13,
   "id": "9dadc75b",
   "metadata": {},
   "outputs": [],
   "source": [
    "existing_customer_growth = round(existing_customer_data_2017[\"net_revenue\"].sum()- existing_customer_data_2016[\"net_revenue\"].sum(),2)"
   ]
  },
  {
   "cell_type": "code",
   "execution_count": 14,
   "id": "f0218a28",
   "metadata": {},
   "outputs": [
    {
     "name": "stdout",
     "output_type": "stream",
     "text": [
      "The existing customer growth for the year 2017 is  63857.06\n"
     ]
    }
   ],
   "source": [
    "print(\"The existing customer growth for the year 2017 is \", existing_customer_growth)\n"
   ]
  },
  {
   "cell_type": "markdown",
   "id": "9f144e10",
   "metadata": {},
   "source": [
    "#### Revenue lost from attrition. (This is assuming that the value required here is revenue lost from customers that were present in 2016 but not in 2017.)"
   ]
  },
  {
   "cell_type": "code",
   "execution_count": 15,
   "id": "1cc58af8",
   "metadata": {},
   "outputs": [],
   "source": [
    "cust_data_lost_2017 = df_2016[~df_2016[\"customer_email\"].isin(df_2017[\"customer_email\"])]\n",
    "attrition_lost_revenue=cust_data_lost_2017[\"net_revenue\"].sum()\n"
   ]
  },
  {
   "cell_type": "code",
   "execution_count": 16,
   "id": "127a796d",
   "metadata": {},
   "outputs": [
    {
     "name": "stdout",
     "output_type": "stream",
     "text": [
      "The revenue lost due to attrition i.e revenue lost from customers present in 2016 but not in 2017 is  16146518.63\n"
     ]
    }
   ],
   "source": [
    "print(\"The revenue lost due to attrition i.e revenue lost from customers present in 2016 but not in 2017 is \", attrition_lost_revenue)"
   ]
  },
  {
   "cell_type": "markdown",
   "id": "830015db",
   "metadata": {},
   "source": [
    "#### Existing customer revenue current year (Revenue of Customers in 2017 that also existed in 2016)\n"
   ]
  },
  {
   "cell_type": "code",
   "execution_count": 17,
   "id": "9b0314be",
   "metadata": {},
   "outputs": [
    {
     "name": "stdout",
     "output_type": "stream",
     "text": [
      "The existing customer revenue of current year is  9648282.02\n"
     ]
    }
   ],
   "source": [
    "print(\"The existing customer revenue of current year is \", round(existing_customer_data_2017[\"net_revenue\"].sum(),2))"
   ]
  },
  {
   "cell_type": "markdown",
   "id": "bfcabc1f",
   "metadata": {},
   "source": [
    "#### Existing customer revenue prior year (Revenue of Customers in 2016 that also exist in 2017)\n"
   ]
  },
  {
   "cell_type": "code",
   "execution_count": 18,
   "id": "2c1f1808",
   "metadata": {},
   "outputs": [
    {
     "name": "stdout",
     "output_type": "stream",
     "text": [
      "The existing customer revenue of previous year is  9584424.96\n"
     ]
    }
   ],
   "source": [
    "print(\"The existing customer revenue of previous year is \", round(existing_customer_data_2016[\"net_revenue\"].sum(),2))"
   ]
  },
  {
   "cell_type": "markdown",
   "id": "ca16cb6f",
   "metadata": {},
   "source": [
    "### Total Customers Current Year"
   ]
  },
  {
   "cell_type": "code",
   "execution_count": 19,
   "id": "c53f9e1e",
   "metadata": {},
   "outputs": [
    {
     "name": "stdout",
     "output_type": "stream",
     "text": [
      "The total customers present in the current year 2017 are  249987\n"
     ]
    }
   ],
   "source": [
    "total_cust_curr_year = df_2017[\"customer_email\"].nunique()\n",
    "print(\"The total customers present in the current year 2017 are \", total_cust_curr_year)"
   ]
  },
  {
   "cell_type": "markdown",
   "id": "7a13cf22",
   "metadata": {},
   "source": [
    "### Total Customers Previous Year i.e 2016"
   ]
  },
  {
   "cell_type": "code",
   "execution_count": 20,
   "id": "8c60298b",
   "metadata": {},
   "outputs": [
    {
     "name": "stdout",
     "output_type": "stream",
     "text": [
      "The total customers present in the previous year 2016 are  204646\n"
     ]
    }
   ],
   "source": [
    "total_cust_prev_year = df_2016[\"customer_email\"].nunique()\n",
    "print(\"The total customers present in the previous year 2016 are \", total_cust_prev_year)"
   ]
  },
  {
   "cell_type": "markdown",
   "id": "16822847",
   "metadata": {},
   "source": [
    "#### New Customers list i.e (Customers Present in 2017 but not in 2016)"
   ]
  },
  {
   "cell_type": "code",
   "execution_count": 21,
   "id": "35de84ca",
   "metadata": {},
   "outputs": [
    {
     "name": "stdout",
     "output_type": "stream",
     "text": [
      "The count of new customers is  173449 and the names are as follows: \n",
      "['qvjfterwnk@gmail.com' 'fdkiioqtli@gmail.com' 'vpsfdhgrfo@gmail.com' ...\n",
      " 'appaplmgko@gmail.com' 'wvkpmwsgck@gmail.com' 'aregboumbw@gmail.com']\n"
     ]
    }
   ],
   "source": [
    "print(\"The count of new customers is \", new_customer[\"customer_email\"].nunique(), \"and the names are as follows: \")\n",
    "print(new_customer[\"customer_email\"].unique())"
   ]
  },
  {
   "cell_type": "markdown",
   "id": "4a5900fc",
   "metadata": {},
   "source": [
    "#### Lost Customers i.e Customers present in 2016 but not in 2017"
   ]
  },
  {
   "cell_type": "code",
   "execution_count": 22,
   "id": "837f155b",
   "metadata": {},
   "outputs": [
    {
     "name": "stdout",
     "output_type": "stream",
     "text": [
      "The count of lost customers is  128108 and the names are as follows: \n",
      "['gkwsoupawk@gmail.com' 'trnzgqinuu@gmail.com' 'hhxxpwlakg@gmail.com' ...\n",
      " 'rdotspqdxi@gmail.com' 'pidugzoeej@gmail.com' 'kxqglfdktu@gmail.com']\n"
     ]
    }
   ],
   "source": [
    "lost_customers = df_2016[~df_2016[\"customer_email\"].isin(df_2017[\"customer_email\"])]\n",
    "print(\"The count of lost customers is \", lost_customers[\"customer_email\"].nunique(), \"and the names are as follows: \")\n",
    "print(lost_customers[\"customer_email\"].unique())"
   ]
  },
  {
   "cell_type": "markdown",
   "id": "b879476c",
   "metadata": {},
   "source": [
    "### Visualizations on Dataset"
   ]
  },
  {
   "cell_type": "code",
   "execution_count": 23,
   "id": "4d4a1119",
   "metadata": {},
   "outputs": [
    {
     "data": {
      "text/html": [
       "<div>\n",
       "<style scoped>\n",
       "    .dataframe tbody tr th:only-of-type {\n",
       "        vertical-align: middle;\n",
       "    }\n",
       "\n",
       "    .dataframe tbody tr th {\n",
       "        vertical-align: top;\n",
       "    }\n",
       "\n",
       "    .dataframe thead th {\n",
       "        text-align: right;\n",
       "    }\n",
       "</style>\n",
       "<table border=\"1\" class=\"dataframe\">\n",
       "  <thead>\n",
       "    <tr style=\"text-align: right;\">\n",
       "      <th></th>\n",
       "      <th>year</th>\n",
       "      <th>customer_email</th>\n",
       "    </tr>\n",
       "  </thead>\n",
       "  <tbody>\n",
       "    <tr>\n",
       "      <th>0</th>\n",
       "      <td>2015</td>\n",
       "      <td>231294</td>\n",
       "    </tr>\n",
       "    <tr>\n",
       "      <th>1</th>\n",
       "      <td>2016</td>\n",
       "      <td>204646</td>\n",
       "    </tr>\n",
       "    <tr>\n",
       "      <th>2</th>\n",
       "      <td>2017</td>\n",
       "      <td>249987</td>\n",
       "    </tr>\n",
       "  </tbody>\n",
       "</table>\n",
       "</div>"
      ],
      "text/plain": [
       "   year  customer_email\n",
       "0  2015          231294\n",
       "1  2016          204646\n",
       "2  2017          249987"
      ]
     },
     "execution_count": 23,
     "metadata": {},
     "output_type": "execute_result"
    }
   ],
   "source": [
    "df.year=df.year.astype(\"str\")\n",
    "cust_count = df.groupby(\"year\")[\"customer_email\"].agg(\"count\").reset_index()\n",
    "cust_count.head()"
   ]
  },
  {
   "cell_type": "code",
   "execution_count": 24,
   "id": "3ab21f16",
   "metadata": {},
   "outputs": [
    {
     "data": {
      "image/png": "[encoded data removed]",
      "text/plain": [
       "<Figure size 432x288 with 1 Axes>"
      ]
     },
     "metadata": {
      "needs_background": "light"
     },
     "output_type": "display_data"
    }
   ],
   "source": [
    "plt.bar(cust_count[\"year\"],cust_count[\"customer_email\"])\n",
    "plt.xlabel(\"Year\")\n",
    "plt.ylabel(\"Count of customers in the year\")\n",
    "plt.title(\"Year vs Customer Count\")\n",
    "plt.show()"
   ]
  },
  {
   "cell_type": "code",
   "execution_count": 25,
   "id": "0292a73c",
   "metadata": {},
   "outputs": [
    {
     "data": {
      "image/png": "[encoded data removed]",
      "text/plain": [
       "<Figure size 720x720 with 2 Axes>"
      ]
     },
     "metadata": {},
     "output_type": "display_data"
    }
   ],
   "source": [
    "cust_retained_2016 = df_2016[df_2016[\"customer_email\"].isin(df_2015[\"customer_email\"])][\"customer_email\"].nunique()\n",
    "cust_new_2016 = df_2016[~df_2016[\"customer_email\"].isin(df_2015[\"customer_email\"])][\"customer_email\"].nunique()\n",
    "\n",
    "\n",
    "ratio_2016= pd.DataFrame({\"Category\":[\"New\",\"Retained\"],\"Count\":[cust_new_2016,cust_retained_2016]})\n",
    "fig, (ax1,ax2) = plt.subplots(1,2,figsize=(10,10))\n",
    "ax1.pie(ratio_2016[\"Count\"], labels=ratio_2016[\"Category\"], autopct='%1.1f%%',\n",
    "        shadow=True, startangle=90)\n",
    "ax1.set_title(\"Retention vs New customer Ratio for 2016\", loc='center')\n",
    "ax1.axis('equal')  # Equal aspect ratio ensures that pie is drawn as a circle.\n",
    "# ax1.title(\"Retention vs New customer Ratio for 2016\")\n",
    "\n",
    "cust_retained_2017 = existing_customer_data_2017[\"customer_email\"].nunique()\n",
    "cust_new_2017 = new_customer[\"customer_email\"].nunique()\n",
    "\n",
    "\n",
    "ratio_2017= pd.DataFrame({\"Category\":[\"New\",\"Retained\"],\"Count\":[cust_new_2017,cust_retained_2017]})\n",
    "\n",
    "ax2.pie(ratio_2017[\"Count\"], labels=ratio_2017[\"Category\"], autopct='%1.1f%%',\n",
    "        shadow=True, startangle=90)\n",
    "ax2.axis('equal')  # Equal aspect ratio ensures that pie is drawn as a circle.\n",
    "ax2.set_title(\"Retention vs New customer Ratio for 2017\")\n",
    "\n",
    "\n",
    "\n",
    "plt.suptitle(\"Customer retention vs new customer  % for the Year 2016 and 2017\")\n",
    "plt.show()\n",
    "## Below plot shows the no of new customers vs the % customers retained for 2016 and 2017. Based on the comparison we can see that 2016 managed to \n",
    "## retain a higher percent of customers than 2017."
   ]
  },
  {
   "cell_type": "markdown",
   "id": "5a172ccb",
   "metadata": {},
   "source": [
    "#### Additonally to these plots, if data was available for multiple years, we can create line graphs to get a trend line of revenue.\n",
    "#### Another thing would be to create charts based on Churn Rate and the revenue. While the dataset is limited to 4 columns, based on questions answered we can create a multitude of visualizations."
   ]
  }
 ],
 "metadata": {
  "kernelspec": {
   "display_name": "Python 3 (ipykernel)",
   "language": "python",
   "name": "python3"
  },
  "language_info": {
   "codemirror_mode": {
    "name": "ipython",
    "version": 3
   },
   "file_extension": ".py",
   "mimetype": "text/x-python",
   "name": "python",
   "nbconvert_exporter": "python",
   "pygments_lexer": "ipython3",
   "version": "3.8.8"
  }
 },
 "nbformat": 4,
 "nbformat_minor": 5
}
